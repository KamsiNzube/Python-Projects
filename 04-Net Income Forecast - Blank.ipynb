{
 "cells": [
  {
   "cell_type": "markdown",
   "metadata": {},
   "source": [
    "# Net Income Forecast Model"
   ]
  },
  {
   "cell_type": "markdown",
   "metadata": {},
   "source": [
    "### Import Packages"
   ]
  },
  {
   "cell_type": "code",
   "execution_count": 43,
   "metadata": {},
   "outputs": [],
   "source": [
    "import numpy as np\n",
    "import matplotlib.pyplot as plt"
   ]
  },
  {
   "cell_type": "markdown",
   "metadata": {},
   "source": [
    "### Distributions - Assumptions"
   ]
  },
  {
   "cell_type": "code",
   "execution_count": 44,
   "metadata": {},
   "outputs": [],
   "source": [
    "# Create variables for assumptions \n",
    "sales_mean = 50\n",
    "sales_std = 5\n",
    "COGS_mean = 0.15\n",
    "COGS_std = 0.1"
   ]
  },
  {
   "cell_type": "markdown",
   "metadata": {},
   "source": [
    "### Simulations - Simulate Sales, COGS, and Net Income"
   ]
  },
  {
   "cell_type": "code",
   "execution_count": 45,
   "metadata": {},
   "outputs": [
    {
     "name": "stdout",
     "output_type": "stream",
     "text": [
      "[50.74665819 60.88135227 53.45657838 ... 41.57560349 45.71039363\n",
      " 53.34916741]\n",
      "mean: 50.00481941943802\n",
      "std: 4.9304316195754545\n"
     ]
    }
   ],
   "source": [
    "# Generate sales samples \n",
    "simulations = 10000\n",
    "sales_sim= np.random.normal(sales_mean, sales_std, simulations)\n",
    "\n",
    "print(sales_sim)\n",
    "print(\"mean:\", np.mean(sales_sim))\n",
    "print(\"std:\", sales_sim.std())"
   ]
  },
  {
   "cell_type": "code",
   "execution_count": 46,
   "metadata": {},
   "outputs": [],
   "source": [
    "# Generate COGS samples\n",
    "COGS_sim = -(sales_sim * np.random.normal(COGS_mean, COGS_std, simulations))\n",
    "\n",
    "# Generate net income simulations\n",
    "profit_sims = sales_sim + COGS_sim"
   ]
  },
  {
   "cell_type": "markdown",
   "metadata": {},
   "source": [
    "### Quantifications - Examine the Worst, Average, Best scenarios and the Probability Distribution"
   ]
  },
  {
   "cell_type": "code",
   "execution_count": 47,
   "metadata": {},
   "outputs": [
    {
     "name": "stdout",
     "output_type": "stream",
     "text": [
      "Worst case: 20.131862630851113\n",
      "Average case: 42.44027682508093\n",
      "Best case: 71.20592475573096\n"
     ]
    }
   ],
   "source": [
    "# Examine the worst, average, and best cases\n",
    "print(\"Worst case:\", min(profit_sims))\n",
    "print(\"Average case:\", profit_sims.mean())\n",
    "print(\"Best case:\", max(profit_sims))"
   ]
  },
  {
   "cell_type": "code",
   "execution_count": 52,
   "metadata": {},
   "outputs": [
    {
     "data": {
      "image/png": "[encoded data removed]",
      "text/plain": [
       "<Figure size 640x480 with 1 Axes>"
      ]
     },
     "metadata": {},
     "output_type": "display_data"
    },
    {
     "name": "stdout",
     "output_type": "stream",
     "text": [
      "68% profit range: $35.95 and $48.93\n",
      "95% profit range: $29.46 and $55.42\n"
     ]
    }
   ],
   "source": [
    "# Set up confidence intervals\n",
    "upper68 = profit_sims.mean() + profit_sims.std()\n",
    "lower68 = profit_sims.mean() - profit_sims.std()\n",
    "upper95 = profit_sims.mean() + profit_sims.std()*2\n",
    "lower95 = profit_sims.mean() - profit_sims.std()*2\n",
    "\n",
    "# Plot the probability distribution\n",
    "plt.hist(profit_sims, bins=20);\n",
    "plt.axvline(upper68, color = 'k', linestyle='dashed',linewidth=1)\n",
    "plt.axvline(lower68, color = 'k', linestyle='dashed', linewidth=1)\n",
    "plt.axvline(upper95, color = 'k', linestyle='dashed', linewidth=1)\n",
    "plt.axvline(lower95, color = 'k', linestyle='dashed', linewidth=1)\n",
    "plt.show()\n",
    "\n",
    "# Print out confidence intervals\n",
    "print(f\"68% profit range: ${round(lower68,2)} and ${round(upper68,2)}\")\n",
    "print(f\"95% profit range: ${round(lower95,2)} and ${round(upper95,2)}\")"
   ]
  },
  {
   "cell_type": "code",
   "execution_count": null,
   "metadata": {},
   "outputs": [],
   "source": []
  },
  {
   "cell_type": "code",
   "execution_count": null,
   "metadata": {},
   "outputs": [],
   "source": []
  },
  {
   "cell_type": "code",
   "execution_count": null,
   "metadata": {},
   "outputs": [],
   "source": []
  }
 ],
 "metadata": {
  "kernelspec": {
   "display_name": "Python 3 (ipykernel)",
   "language": "python",
   "name": "python3"
  },
  "language_info": {
   "codemirror_mode": {
    "name": "ipython",
    "version": 3
   },
   "file_extension": ".py",
   "mimetype": "text/x-python",
   "name": "python",
   "nbconvert_exporter": "python",
   "pygments_lexer": "ipython3",
   "version": "3.9.13"
  }
 },
 "nbformat": 4,
 "nbformat_minor": 2
}
