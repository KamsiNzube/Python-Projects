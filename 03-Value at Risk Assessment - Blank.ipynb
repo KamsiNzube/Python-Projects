{
 "cells": [
  {
   "cell_type": "markdown",
   "metadata": {
    "id": "DhABxXGGG41q"
   },
   "source": [
    "# Value at Risk Assessment Model"
   ]
  },
  {
   "cell_type": "markdown",
   "metadata": {
    "id": "2RPdfXEEG41t"
   },
   "source": [
    "### Import Packages"
   ]
  },
  {
   "cell_type": "code",
   "execution_count": 1,
   "metadata": {
    "id": "vfRHja5xG41u"
   },
   "outputs": [],
   "source": [
    "# Import packages\n",
    "import numpy as np\n",
    "import pandas as pd\n",
    "import yfinance as yf\n",
    "import matplotlib.pyplot as plt"
   ]
  },
  {
   "cell_type": "markdown",
   "metadata": {
    "id": "d5W6RwdIG41v"
   },
   "source": [
    "### Distributions - Set Up Stock Parameters"
   ]
  },
  {
   "cell_type": "code",
   "execution_count": 7,
   "metadata": {
    "id": "S4lUCx5nG41v"
   },
   "outputs": [
    {
     "name": "stdout",
     "output_type": "stream",
     "text": [
      "  MSFT\n",
      "----------\n",
      "324.7300109863281\n"
     ]
    }
   ],
   "source": [
    "# Number of shares\n",
    "share_MSFT = 1000\n",
    "\n",
    "# Live stock price\n",
    "price = yf.Ticker('MSFT')\n",
    "price_MSFT = price.history().tail(1)['Close'].iloc[0]\n",
    "\n",
    "print('  MSFT')\n",
    "print('----------')\n",
    "print(price_MSFT)"
   ]
  },
  {
   "cell_type": "markdown",
   "metadata": {
    "id": "TnYmv1i5G41v"
   },
   "source": [
    "30-day Historical volatility source: https://www.alphaquery.com/stock/MSFT/volatility-option-statistics/30-day/historical-volatility"
   ]
  },
  {
   "cell_type": "code",
   "execution_count": 8,
   "metadata": {
    "id": "76xj8cmqG41v"
   },
   "outputs": [],
   "source": [
    "# Investment value\n",
    "value_MSFT = price_MSFT * share_MSFT\n",
    "\n",
    "# Risk free rate (4-week treasury bill rate)\n",
    "rfr_MSFT = 0.0551\n",
    "\n",
    "# Volatility (30-day volatility at that time)\n",
    "vol_MSFT = 0.2996"
   ]
  },
  {
   "cell_type": "markdown",
   "metadata": {
    "id": "0RRGdvW5G41w"
   },
   "source": [
    "### Simulations - Calculate Investment Returns"
   ]
  },
  {
   "cell_type": "code",
   "execution_count": 15,
   "metadata": {
    "id": "EhL5ICKPG41w"
   },
   "outputs": [],
   "source": [
    "# Number of simulations\n",
    "simulations = 50000\n",
    "\n",
    "# Investment time in a year\n",
    "t_MSFT = 21/252"
   ]
  },
  {
   "cell_type": "code",
   "execution_count": 11,
   "metadata": {
    "id": "Ta7hVoQ7G41w",
    "scrolled": true
   },
   "outputs": [
    {
     "data": {
      "text/plain": [
       "(array([  2.,   0.,   0.,   1.,   0.,   2.,   1.,   0.,   2.,   1.,   5.,\n",
       "          3.,   4.,   6.,   6.,  10.,  11.,   6.,   6.,  19.,  19.,  21.,\n",
       "         17.,  26.,  19.,  31.,  26.,  34.,  37.,  48.,  61.,  49.,  61.,\n",
       "         69.,  77.,  88.,  93.,  89., 112., 125., 115., 135., 136., 144.,\n",
       "        150., 176., 129., 149., 146., 159., 133., 146., 144., 157., 130.,\n",
       "        121., 122., 123., 113., 112., 106., 104.,  84.,  78.,  78.,  78.,\n",
       "         64.,  49.,  57.,  58.,  43.,  34.,  37.,  38.,  31.,  25.,  15.,\n",
       "         14.,  11.,  13.,   9.,   7.,   8.,   8.,   3.,   5.,   6.,   0.,\n",
       "          1.,   3.,   1.,   1.,   0.,   1.,   1.,   0.,   1.,   0.,   0.,\n",
       "          1.]),\n",
       " array([-3.71457851, -3.63980911, -3.56503971, -3.49027031, -3.4155009 ,\n",
       "        -3.3407315 , -3.2659621 , -3.1911927 , -3.1164233 , -3.04165389,\n",
       "        -2.96688449, -2.89211509, -2.81734569, -2.74257628, -2.66780688,\n",
       "        -2.59303748, -2.51826808, -2.44349868, -2.36872927, -2.29395987,\n",
       "        -2.21919047, -2.14442107, -2.06965167, -1.99488226, -1.92011286,\n",
       "        -1.84534346, -1.77057406, -1.69580466, -1.62103525, -1.54626585,\n",
       "        -1.47149645, -1.39672705, -1.32195765, -1.24718824, -1.17241884,\n",
       "        -1.09764944, -1.02288004, -0.94811064, -0.87334123, -0.79857183,\n",
       "        -0.72380243, -0.64903303, -0.57426363, -0.49949422, -0.42472482,\n",
       "        -0.34995542, -0.27518602, -0.20041662, -0.12564721, -0.05087781,\n",
       "         0.02389159,  0.09866099,  0.17343039,  0.2481998 ,  0.3229692 ,\n",
       "         0.3977386 ,  0.472508  ,  0.54727741,  0.62204681,  0.69681621,\n",
       "         0.77158561,  0.84635501,  0.92112442,  0.99589382,  1.07066322,\n",
       "         1.14543262,  1.22020202,  1.29497143,  1.36974083,  1.44451023,\n",
       "         1.51927963,  1.59404903,  1.66881844,  1.74358784,  1.81835724,\n",
       "         1.89312664,  1.96789604,  2.04266545,  2.11743485,  2.19220425,\n",
       "         2.26697365,  2.34174305,  2.41651246,  2.49128186,  2.56605126,\n",
       "         2.64082066,  2.71559006,  2.79035947,  2.86512887,  2.93989827,\n",
       "         3.01466767,  3.08943707,  3.16420648,  3.23897588,  3.31374528,\n",
       "         3.38851468,  3.46328409,  3.53805349,  3.61282289,  3.68759229,\n",
       "         3.76236169]),\n",
       " <BarContainer object of 100 artists>)"
      ]
     },
     "execution_count": 11,
     "metadata": {},
     "output_type": "execute_result"
    },
    {
     "data": {
      "image/png": "[encoded data removed]",
      "text/plain": [
       "<Figure size 640x480 with 1 Axes>"
      ]
     },
     "metadata": {},
     "output_type": "display_data"
    }
   ],
   "source": [
    "# Explain np.random.standard_normal\n",
    "sample = np.random.standard_normal(5000)\n",
    "plt.hist(sample, bins = 100)"
   ]
  },
  {
   "cell_type": "code",
   "execution_count": 13,
   "metadata": {},
   "outputs": [
    {
     "name": "stdout",
     "output_type": "stream",
     "text": [
      "-0.02268730070915757\n",
      "1.0062082297149821\n"
     ]
    }
   ],
   "source": [
    "print(np.mean(sample))\n",
    "print(np.std(sample))"
   ]
  },
  {
   "cell_type": "code",
   "execution_count": 17,
   "metadata": {
    "id": "0_f89juWG41x"
   },
   "outputs": [
    {
     "name": "stdout",
     "output_type": "stream",
     "text": [
      "[-30039.25881382  -6173.49044399  -3920.22015328 ...  15724.34498938\n",
      "  26749.89878111  18920.79188194]\n"
     ]
    }
   ],
   "source": [
    "# Create a function to calculate the returns of the investment\n",
    "def VaR(pv,rfr,vol,t,simulations):\n",
    "    endvalue = pv*np.exp((rfr - 0.5 * vol**2)* t + np.random.standard_normal(simulations)*vol*np.sqrt(t))\n",
    "    \n",
    "    returns = endvalue - pv\n",
    "    return returns\n",
    "\n",
    "# Apply the VaR function to simulate the returns\n",
    "returns_MSFT = VaR(value_MSFT, rfr_MSFT, vol_MSFT, t_MSFT, simulations)\n",
    "\n",
    "print(returns_MSFT)"
   ]
  },
  {
   "cell_type": "markdown",
   "metadata": {
    "id": "v8wA9yxHG41x"
   },
   "source": [
    "### Quantifications - Identify VaR at 90%, 95%, and 99% Confidence Level"
   ]
  },
  {
   "cell_type": "code",
   "execution_count": 18,
   "metadata": {
    "id": "6-QygAyMG41x"
   },
   "outputs": [
    {
     "name": "stdout",
     "output_type": "stream",
     "text": [
      "VaR at 90% confidence level: $3,455\n"
     ]
    }
   ],
   "source": [
    "# Explain string formatting\n",
    "# Print: VaR at x% confidence level: $y.\n",
    "x=0.9\n",
    "y = 3455.248\n",
    "print(\"VaR at {:.0%} confidence level: ${:,.0f}\".format(x,y))"
   ]
  },
  {
   "cell_type": "code",
   "execution_count": 21,
   "metadata": {
    "id": "KxCc8t0yG41x"
   },
   "outputs": [
    {
     "name": "stdout",
     "output_type": "stream",
     "text": [
      "VaR at 90% confidence level: $-33,741\n",
      "VaR at 95% confidence level: $-42,724\n",
      "VaR at 99% confidence level: $-59,462\n"
     ]
    },
    {
     "data": {
      "image/png": "[encoded data removed]",
      "text/plain": [
       "<Figure size 640x480 with 1 Axes>"
      ]
     },
     "metadata": {},
     "output_type": "display_data"
    }
   ],
   "source": [
    "# Plot the returns\n",
    "plt.hist(returns_MSFT, bins =100)\n",
    "\n",
    "# Show VaR at 90%, 95%, and 99% confidence level\n",
    "percentiles = [10,5,1]\n",
    "\n",
    "for i in percentiles:\n",
    "    confidence= (100-i)/100\n",
    "    value=np.percentile(returns_MSFT, i)\n",
    "    print(\"VaR at {:.0%} confidence level: ${:,.0f}\".format(confidence, value))\n",
    "    plt.axvline(value, color = 'red', linestyle='dashed', linewidth = 1)"
   ]
  },
  {
   "cell_type": "code",
   "execution_count": null,
   "metadata": {},
   "outputs": [],
   "source": []
  }
 ],
 "metadata": {
  "colab": {
   "name": "03-Value at Risk Assessment-Blank.ipynb",
   "provenance": []
  },
  "kernelspec": {
   "display_name": "Python 3 (ipykernel)",
   "language": "python",
   "name": "python3"
  },
  "language_info": {
   "codemirror_mode": {
    "name": "ipython",
    "version": 3
   },
   "file_extension": ".py",
   "mimetype": "text/x-python",
   "name": "python",
   "nbconvert_exporter": "python",
   "pygments_lexer": "ipython3",
   "version": "3.11.5"
  }
 },
 "nbformat": 4,
 "nbformat_minor": 1
}
